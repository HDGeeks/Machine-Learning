{
  "nbformat": 4,
  "nbformat_minor": 0,
  "metadata": {
    "colab": {
      "provenance": []
    },
    "kernelspec": {
      "name": "python3",
      "display_name": "Python 3"
    },
    "language_info": {
      "name": "python"
    }
  },
  "cells": [
    {
      "cell_type": "markdown",
      "source": [
        "# **PyTorch**\n",
        "\n",
        "**Tensors** (https://docs.pytorch.org/tutorials/beginner/basics/tensorqs_tutorial.html)\n",
        "\n",
        "\n",
        "As opposed to Python Lists, Tensors have a fixed, pre-defined size:"
      ],
      "metadata": {
        "id": "EYdRx5jOtSt2"
      }
    },
    {
      "cell_type": "code",
      "source": [
        "import torch\n",
        "\n",
        "zeros = torch.zeros(3,6) #3 rows, 6 columns, filled with zeros\n",
        "zeros"
      ],
      "metadata": {
        "colab": {
          "base_uri": "https://localhost:8080/"
        },
        "id": "fZjDTFu9uIBr",
        "outputId": "fafebdc2-fb04-4f5c-d973-e0d624b2d227"
      },
      "execution_count": 155,
      "outputs": [
        {
          "output_type": "execute_result",
          "data": {
            "text/plain": [
              "tensor([[0., 0., 0., 0., 0., 0.],\n",
              "        [0., 0., 0., 0., 0., 0.],\n",
              "        [0., 0., 0., 0., 0., 0.]])"
            ]
          },
          "metadata": {},
          "execution_count": 155
        }
      ]
    },
    {
      "cell_type": "code",
      "source": [
        "ones = torch.ones(6,3) #6 rows, 3 columns, filled with ones\n",
        "ones"
      ],
      "metadata": {
        "colab": {
          "base_uri": "https://localhost:8080/"
        },
        "id": "TkOK3nsqueCN",
        "outputId": "7119c2c4-464b-4ec7-e66d-2d905afc8e2a"
      },
      "execution_count": 156,
      "outputs": [
        {
          "output_type": "execute_result",
          "data": {
            "text/plain": [
              "tensor([[1., 1., 1.],\n",
              "        [1., 1., 1.],\n",
              "        [1., 1., 1.],\n",
              "        [1., 1., 1.],\n",
              "        [1., 1., 1.],\n",
              "        [1., 1., 1.]])"
            ]
          },
          "metadata": {},
          "execution_count": 156
        }
      ]
    },
    {
      "cell_type": "code",
      "source": [
        "random = torch.rand(6,6) #6 rows, 6 columns, filled with random values\n",
        "random"
      ],
      "metadata": {
        "colab": {
          "base_uri": "https://localhost:8080/"
        },
        "id": "UxYUNQ8Auk-Y",
        "outputId": "6dd6d830-1f19-4a65-f75c-a08889c2a683"
      },
      "execution_count": 157,
      "outputs": [
        {
          "output_type": "execute_result",
          "data": {
            "text/plain": [
              "tensor([[0.1574, 0.9144, 0.4728, 0.2691, 0.5082, 0.0695],\n",
              "        [0.5497, 0.8965, 0.4052, 0.0376, 0.3466, 0.5884],\n",
              "        [0.6614, 0.2324, 0.2847, 0.3588, 0.8572, 0.8256],\n",
              "        [0.1864, 0.7117, 0.6588, 0.3715, 0.1489, 0.4006],\n",
              "        [0.3606, 0.8524, 0.2853, 0.6764, 0.5063, 0.6005],\n",
              "        [0.8602, 0.5437, 0.5186, 0.4448, 0.6609, 0.2008]])"
            ]
          },
          "metadata": {},
          "execution_count": 157
        }
      ]
    },
    {
      "cell_type": "code",
      "source": [
        "exampleList = [[1,2,3],[3,2,1]] #tensor from list\n",
        "exampleTensor = torch.tensor(exampleList)\n",
        "exampleTensor"
      ],
      "metadata": {
        "colab": {
          "base_uri": "https://localhost:8080/"
        },
        "id": "qCqfNBO_uvzT",
        "outputId": "26ca38ad-2ad0-4087-d908-087d2692014a"
      },
      "execution_count": 158,
      "outputs": [
        {
          "output_type": "execute_result",
          "data": {
            "text/plain": [
              "tensor([[1, 2, 3],\n",
              "        [3, 2, 1]])"
            ]
          },
          "metadata": {},
          "execution_count": 158
        }
      ]
    },
    {
      "cell_type": "code",
      "source": [
        "torch.arange(6) #fill with numbers"
      ],
      "metadata": {
        "colab": {
          "base_uri": "https://localhost:8080/"
        },
        "id": "EMl32uL7wiVV",
        "outputId": "eb36a590-92e2-4661-f250-98417deed963"
      },
      "execution_count": 159,
      "outputs": [
        {
          "output_type": "execute_result",
          "data": {
            "text/plain": [
              "tensor([0, 1, 2, 3, 4, 5])"
            ]
          },
          "metadata": {},
          "execution_count": 159
        }
      ]
    },
    {
      "cell_type": "markdown",
      "source": [
        "**Tensor Attributes**"
      ],
      "metadata": {
        "id": "p__gIFdEvFry"
      }
    },
    {
      "cell_type": "code",
      "source": [
        "random.shape #overall dimensionality"
      ],
      "metadata": {
        "colab": {
          "base_uri": "https://localhost:8080/"
        },
        "id": "-c3ByyY4u6AD",
        "outputId": "50e046b7-927d-4e0a-a6f5-2bccd7b2dc00"
      },
      "execution_count": 160,
      "outputs": [
        {
          "output_type": "execute_result",
          "data": {
            "text/plain": [
              "torch.Size([6, 6])"
            ]
          },
          "metadata": {},
          "execution_count": 160
        }
      ]
    },
    {
      "cell_type": "code",
      "source": [
        "random.dtype #the data type of values"
      ],
      "metadata": {
        "colab": {
          "base_uri": "https://localhost:8080/"
        },
        "id": "k6THTed0u-Q6",
        "outputId": "21af77f5-9099-4904-d0e5-f57698a8bb62"
      },
      "execution_count": 161,
      "outputs": [
        {
          "output_type": "execute_result",
          "data": {
            "text/plain": [
              "torch.float32"
            ]
          },
          "metadata": {},
          "execution_count": 161
        }
      ]
    },
    {
      "cell_type": "code",
      "source": [
        "random.device #location of a tensor"
      ],
      "metadata": {
        "colab": {
          "base_uri": "https://localhost:8080/"
        },
        "id": "VB9aWnHhvDQf",
        "outputId": "331675e4-135d-4541-f063-bdf5cd175ddf"
      },
      "execution_count": 162,
      "outputs": [
        {
          "output_type": "execute_result",
          "data": {
            "text/plain": [
              "device(type='cpu')"
            ]
          },
          "metadata": {},
          "execution_count": 162
        }
      ]
    },
    {
      "cell_type": "markdown",
      "source": [
        "\n",
        "\n",
        "---\n",
        "\n",
        "\n",
        "# Operations\n",
        "\n",
        "For many operations, the dimension(s) on which to operate on need to be specified"
      ],
      "metadata": {
        "id": "cQRcLLWBvTob"
      }
    },
    {
      "cell_type": "code",
      "source": [
        "torch.sum(exampleTensor,0) #calculate the sums along dimension zero"
      ],
      "metadata": {
        "colab": {
          "base_uri": "https://localhost:8080/"
        },
        "id": "2OwwVWW6vcMh",
        "outputId": "c6f76381-5244-420c-d459-6fa28418ea87"
      },
      "execution_count": 163,
      "outputs": [
        {
          "output_type": "execute_result",
          "data": {
            "text/plain": [
              "tensor([4, 4, 4])"
            ]
          },
          "metadata": {},
          "execution_count": 163
        }
      ]
    },
    {
      "cell_type": "code",
      "source": [
        "torch.sum(exampleTensor,1) #calculate the sums along dimension one"
      ],
      "metadata": {
        "colab": {
          "base_uri": "https://localhost:8080/"
        },
        "id": "SBELMaJ1vohi",
        "outputId": "c6c6f159-6c89-48cc-9f53-29402e41146f"
      },
      "execution_count": 164,
      "outputs": [
        {
          "output_type": "execute_result",
          "data": {
            "text/plain": [
              "tensor([6, 6])"
            ]
          },
          "metadata": {},
          "execution_count": 164
        }
      ]
    },
    {
      "cell_type": "markdown",
      "source": [
        "**Be aware of dimensions!**"
      ],
      "metadata": {
        "id": "EX2WTgHOvsmm"
      }
    },
    {
      "cell_type": "code",
      "source": [
        "torch.sum(exampleTensor,2) #attempting to calculate the sums along (non-existing) dimension 2"
      ],
      "metadata": {
        "colab": {
          "base_uri": "https://localhost:8080/",
          "height": 144
        },
        "id": "WUlMgxGOvujb",
        "outputId": "1373359a-1f06-4283-d890-d8fb1ae18c0b"
      },
      "execution_count": 165,
      "outputs": [
        {
          "output_type": "error",
          "ename": "IndexError",
          "evalue": "Dimension out of range (expected to be in range of [-2, 1], but got 2)",
          "traceback": [
            "\u001b[0;31m---------------------------------------------------------------------------\u001b[0m",
            "\u001b[0;31mIndexError\u001b[0m                                Traceback (most recent call last)",
            "\u001b[0;32m/tmp/ipython-input-4033938330.py\u001b[0m in \u001b[0;36m<cell line: 0>\u001b[0;34m()\u001b[0m\n\u001b[0;32m----> 1\u001b[0;31m \u001b[0mtorch\u001b[0m\u001b[0;34m.\u001b[0m\u001b[0msum\u001b[0m\u001b[0;34m(\u001b[0m\u001b[0mexampleTensor\u001b[0m\u001b[0;34m,\u001b[0m\u001b[0;36m2\u001b[0m\u001b[0;34m)\u001b[0m \u001b[0;31m#attempting to calculate the sums along (non-existing) dimension 2\u001b[0m\u001b[0;34m\u001b[0m\u001b[0;34m\u001b[0m\u001b[0m\n\u001b[0m",
            "\u001b[0;31mIndexError\u001b[0m: Dimension out of range (expected to be in range of [-2, 1], but got 2)"
          ]
        }
      ]
    },
    {
      "cell_type": "markdown",
      "source": [
        "**Many operations work on both scalars and tensors:**"
      ],
      "metadata": {
        "id": "NZTj787BrwFd"
      }
    },
    {
      "cell_type": "code",
      "source": [
        "exampleTensor/2 #divide every element by two"
      ],
      "metadata": {
        "colab": {
          "base_uri": "https://localhost:8080/"
        },
        "id": "0Ujd-Zd1v1N4",
        "outputId": "a7ace8ad-4794-4e61-a0f0-c2e3c06a8b06"
      },
      "execution_count": 166,
      "outputs": [
        {
          "output_type": "execute_result",
          "data": {
            "text/plain": [
              "tensor([[0.5000, 1.0000, 1.5000],\n",
              "        [1.5000, 1.0000, 0.5000]])"
            ]
          },
          "metadata": {},
          "execution_count": 166
        }
      ]
    },
    {
      "cell_type": "code",
      "source": [
        "exampleTensor*2 #multiply every elememt by two"
      ],
      "metadata": {
        "colab": {
          "base_uri": "https://localhost:8080/"
        },
        "id": "zkZDsWILv4GP",
        "outputId": "fcbdc993-1290-4e48-c4cd-6f87854c9b06"
      },
      "execution_count": 167,
      "outputs": [
        {
          "output_type": "execute_result",
          "data": {
            "text/plain": [
              "tensor([[2, 4, 6],\n",
              "        [6, 4, 2]])"
            ]
          },
          "metadata": {},
          "execution_count": 167
        }
      ]
    },
    {
      "cell_type": "code",
      "source": [
        "exampleTensor+2 #add two to every element"
      ],
      "metadata": {
        "colab": {
          "base_uri": "https://localhost:8080/"
        },
        "id": "i_m8EB-av7v8",
        "outputId": "eecd6fc1-f795-4266-aba1-79c5b6d63614"
      },
      "execution_count": 168,
      "outputs": [
        {
          "output_type": "execute_result",
          "data": {
            "text/plain": [
              "tensor([[3, 4, 5],\n",
              "        [5, 4, 3]])"
            ]
          },
          "metadata": {},
          "execution_count": 168
        }
      ]
    },
    {
      "cell_type": "code",
      "source": [
        "exampleTensor+exampleTensor #perform an element-wise addition of two tensors"
      ],
      "metadata": {
        "colab": {
          "base_uri": "https://localhost:8080/"
        },
        "id": "46NDFgRrv-aJ",
        "outputId": "cce9c327-58cc-4117-88ca-a929dc15441e"
      },
      "execution_count": 169,
      "outputs": [
        {
          "output_type": "execute_result",
          "data": {
            "text/plain": [
              "tensor([[2, 4, 6],\n",
              "        [6, 4, 2]])"
            ]
          },
          "metadata": {},
          "execution_count": 169
        }
      ]
    },
    {
      "cell_type": "code",
      "source": [
        "exampleTensor*exampleTensor #perform an element-wise multiplication of two tensors"
      ],
      "metadata": {
        "colab": {
          "base_uri": "https://localhost:8080/"
        },
        "id": "2QHWiLm5wC4R",
        "outputId": "6e1d5f8d-1584-4774-9e31-e3a4311f9d8e"
      },
      "execution_count": 170,
      "outputs": [
        {
          "output_type": "execute_result",
          "data": {
            "text/plain": [
              "tensor([[1, 4, 9],\n",
              "        [9, 4, 1]])"
            ]
          },
          "metadata": {},
          "execution_count": 170
        }
      ]
    },
    {
      "cell_type": "markdown",
      "source": [
        "**The shapes of the tensors involved need to match for the given operation!**"
      ],
      "metadata": {
        "id": "LojwFmttqTb5"
      }
    },
    {
      "cell_type": "code",
      "source": [
        "zeros + ones #size mismatch"
      ],
      "metadata": {
        "colab": {
          "base_uri": "https://localhost:8080/",
          "height": 144
        },
        "id": "_7yB1rzSwJoW",
        "outputId": "c48af2e7-b5f0-469b-eb93-c4a0437f1e38"
      },
      "execution_count": 171,
      "outputs": [
        {
          "output_type": "error",
          "ename": "RuntimeError",
          "evalue": "The size of tensor a (6) must match the size of tensor b (3) at non-singleton dimension 1",
          "traceback": [
            "\u001b[0;31m---------------------------------------------------------------------------\u001b[0m",
            "\u001b[0;31mRuntimeError\u001b[0m                              Traceback (most recent call last)",
            "\u001b[0;32m/tmp/ipython-input-1541767932.py\u001b[0m in \u001b[0;36m<cell line: 0>\u001b[0;34m()\u001b[0m\n\u001b[0;32m----> 1\u001b[0;31m \u001b[0mzeros\u001b[0m \u001b[0;34m+\u001b[0m \u001b[0mones\u001b[0m \u001b[0;31m#size mismatch\u001b[0m\u001b[0;34m\u001b[0m\u001b[0;34m\u001b[0m\u001b[0m\n\u001b[0m",
            "\u001b[0;31mRuntimeError\u001b[0m: The size of tensor a (6) must match the size of tensor b (3) at non-singleton dimension 1"
          ]
        }
      ]
    },
    {
      "cell_type": "markdown",
      "source": [
        "**Matrix transpose can help to enable certain operations**"
      ],
      "metadata": {
        "id": "xyWJafAKtThF"
      }
    },
    {
      "cell_type": "code",
      "source": [
        "zeros.transpose(0,1) + ones #matrix transpose"
      ],
      "metadata": {
        "colab": {
          "base_uri": "https://localhost:8080/"
        },
        "id": "chSqqmdxwQlF",
        "outputId": "897e68cb-4c8c-4c8f-b5e5-de4de6e5cccc"
      },
      "execution_count": 172,
      "outputs": [
        {
          "output_type": "execute_result",
          "data": {
            "text/plain": [
              "tensor([[1., 1., 1.],\n",
              "        [1., 1., 1.],\n",
              "        [1., 1., 1.],\n",
              "        [1., 1., 1.],\n",
              "        [1., 1., 1.],\n",
              "        [1., 1., 1.]])"
            ]
          },
          "metadata": {},
          "execution_count": 172
        }
      ]
    },
    {
      "cell_type": "code",
      "source": [
        "zeros + ones.transpose(0,1)"
      ],
      "metadata": {
        "colab": {
          "base_uri": "https://localhost:8080/"
        },
        "id": "0mE2XfQmwXeM",
        "outputId": "606bef8d-3721-466f-8a3e-d31ebf3d4d6c"
      },
      "execution_count": 173,
      "outputs": [
        {
          "output_type": "execute_result",
          "data": {
            "text/plain": [
              "tensor([[1., 1., 1., 1., 1., 1.],\n",
              "        [1., 1., 1., 1., 1., 1.],\n",
              "        [1., 1., 1., 1., 1., 1.]])"
            ]
          },
          "metadata": {},
          "execution_count": 173
        }
      ]
    },
    {
      "cell_type": "code",
      "source": [
        "twos = ones+ones\n",
        "twos"
      ],
      "metadata": {
        "colab": {
          "base_uri": "https://localhost:8080/"
        },
        "id": "kj1Z-Z79wuQw",
        "outputId": "3198d901-35ed-47ec-eda2-6d3028284fd3"
      },
      "execution_count": 174,
      "outputs": [
        {
          "output_type": "execute_result",
          "data": {
            "text/plain": [
              "tensor([[2., 2., 2.],\n",
              "        [2., 2., 2.],\n",
              "        [2., 2., 2.],\n",
              "        [2., 2., 2.],\n",
              "        [2., 2., 2.],\n",
              "        [2., 2., 2.]])"
            ]
          },
          "metadata": {},
          "execution_count": 174
        }
      ]
    },
    {
      "cell_type": "code",
      "source": [
        "sixes = twos+twos+twos\n",
        "torch.div(sixes,twos) #element-wise divison"
      ],
      "metadata": {
        "colab": {
          "base_uri": "https://localhost:8080/"
        },
        "id": "9E4r7ZDIwz0c",
        "outputId": "2a5f4fe9-97b1-4e98-f103-1fc3f4a9db17"
      },
      "execution_count": 175,
      "outputs": [
        {
          "output_type": "execute_result",
          "data": {
            "text/plain": [
              "tensor([[3., 3., 3.],\n",
              "        [3., 3., 3.],\n",
              "        [3., 3., 3.],\n",
              "        [3., 3., 3.],\n",
              "        [3., 3., 3.],\n",
              "        [3., 3., 3.]])"
            ]
          },
          "metadata": {},
          "execution_count": 175
        }
      ]
    },
    {
      "cell_type": "code",
      "source": [
        "torch.log(sixes) #calculate log for every element"
      ],
      "metadata": {
        "colab": {
          "base_uri": "https://localhost:8080/"
        },
        "id": "-ZoeW2VjxLNC",
        "outputId": "de24e0f8-ce28-4f35-b314-be099a9256e3"
      },
      "execution_count": 176,
      "outputs": [
        {
          "output_type": "execute_result",
          "data": {
            "text/plain": [
              "tensor([[1.7918, 1.7918, 1.7918],\n",
              "        [1.7918, 1.7918, 1.7918],\n",
              "        [1.7918, 1.7918, 1.7918],\n",
              "        [1.7918, 1.7918, 1.7918],\n",
              "        [1.7918, 1.7918, 1.7918],\n",
              "        [1.7918, 1.7918, 1.7918]])"
            ]
          },
          "metadata": {},
          "execution_count": 176
        }
      ]
    },
    {
      "cell_type": "code",
      "source": [
        "torch.count_nonzero(sixes) #get the total amount of non-zero values"
      ],
      "metadata": {
        "colab": {
          "base_uri": "https://localhost:8080/"
        },
        "id": "wdBVdrK8xOrU",
        "outputId": "6e6c2b80-f729-4458-e270-9c8bee34b988"
      },
      "execution_count": 177,
      "outputs": [
        {
          "output_type": "execute_result",
          "data": {
            "text/plain": [
              "tensor(18)"
            ]
          },
          "metadata": {},
          "execution_count": 177
        }
      ]
    },
    {
      "cell_type": "markdown",
      "source": [
        "\n",
        "\n",
        "---\n",
        "\n",
        "\n",
        "# Accessing and changing tensor values by their index:"
      ],
      "metadata": {
        "id": "dFsDoZU3sfPv"
      }
    },
    {
      "cell_type": "code",
      "source": [
        "sixes[0,1] = 0 #set the specified value to zero\n",
        "sixes"
      ],
      "metadata": {
        "colab": {
          "base_uri": "https://localhost:8080/"
        },
        "id": "3i5qtXIZqnBb",
        "outputId": "df806612-07c5-4a55-e47e-1c2d4041436a"
      },
      "execution_count": 178,
      "outputs": [
        {
          "output_type": "execute_result",
          "data": {
            "text/plain": [
              "tensor([[6., 0., 6.],\n",
              "        [6., 6., 6.],\n",
              "        [6., 6., 6.],\n",
              "        [6., 6., 6.],\n",
              "        [6., 6., 6.],\n",
              "        [6., 6., 6.]])"
            ]
          },
          "metadata": {},
          "execution_count": 178
        }
      ]
    },
    {
      "cell_type": "code",
      "source": [
        "replacement = torch.Tensor([4,1,5])\n",
        "sixes[0,:] = replacement #change a complete row\n",
        "\n",
        "sixes"
      ],
      "metadata": {
        "colab": {
          "base_uri": "https://localhost:8080/"
        },
        "id": "jyrEka0ysr5F",
        "outputId": "ff935c93-4f5f-465b-d89c-f801518a97c6"
      },
      "execution_count": 179,
      "outputs": [
        {
          "output_type": "execute_result",
          "data": {
            "text/plain": [
              "tensor([[4., 1., 5.],\n",
              "        [6., 6., 6.],\n",
              "        [6., 6., 6.],\n",
              "        [6., 6., 6.],\n",
              "        [6., 6., 6.],\n",
              "        [6., 6., 6.]])"
            ]
          },
          "metadata": {},
          "execution_count": 179
        }
      ]
    },
    {
      "cell_type": "code",
      "source": [
        "sixes[:,0] #get first element of every row"
      ],
      "metadata": {
        "colab": {
          "base_uri": "https://localhost:8080/"
        },
        "id": "ZgqDD6aEtl_d",
        "outputId": "8775c177-4d9f-4c85-b74a-06d8d52c1e1f"
      },
      "execution_count": 180,
      "outputs": [
        {
          "output_type": "execute_result",
          "data": {
            "text/plain": [
              "tensor([4., 6., 6., 6., 6., 6.])"
            ]
          },
          "metadata": {},
          "execution_count": 180
        }
      ]
    },
    {
      "cell_type": "code",
      "source": [
        "sixes[0,:] #get first element of every column"
      ],
      "metadata": {
        "colab": {
          "base_uri": "https://localhost:8080/"
        },
        "id": "6Tr0f3cotsZM",
        "outputId": "918d64e4-da83-48d6-bb93-5705618a9d7b"
      },
      "execution_count": 181,
      "outputs": [
        {
          "output_type": "execute_result",
          "data": {
            "text/plain": [
              "tensor([4., 1., 5.])"
            ]
          },
          "metadata": {},
          "execution_count": 181
        }
      ]
    },
    {
      "cell_type": "markdown",
      "source": [
        "\n",
        "\n",
        "---\n",
        "\n",
        "# Similarity measures"
      ],
      "metadata": {
        "id": "WZCfIgCLuILk"
      }
    },
    {
      "cell_type": "code",
      "source": [
        "a = torch.rand(5)\n",
        "b = torch.rand(5)\n",
        "\n",
        "print (a)\n",
        "print (b)"
      ],
      "metadata": {
        "colab": {
          "base_uri": "https://localhost:8080/"
        },
        "id": "h8lZ6v9xuM2j",
        "outputId": "b909a3e2-09f1-4c1c-aeb3-69db2b29ff59"
      },
      "execution_count": 182,
      "outputs": [
        {
          "output_type": "stream",
          "name": "stdout",
          "text": [
            "tensor([0.3551, 0.6023, 0.1756, 0.6900, 0.4046])\n",
            "tensor([0.6629, 0.2121, 0.4736, 0.7645, 0.7948])\n"
          ]
        }
      ]
    },
    {
      "cell_type": "code",
      "source": [
        "torch.dot(a,b) #dot product; will be zero if vectors are orthogonal"
      ],
      "metadata": {
        "colab": {
          "base_uri": "https://localhost:8080/"
        },
        "id": "-jNUlhgHuX-F",
        "outputId": "6e5b76b1-1c8b-4aca-89d7-298b05ec1d0a"
      },
      "execution_count": 183,
      "outputs": [
        {
          "output_type": "execute_result",
          "data": {
            "text/plain": [
              "tensor(1.2954)"
            ]
          },
          "metadata": {},
          "execution_count": 183
        }
      ]
    },
    {
      "cell_type": "code",
      "source": [
        "torch.cosine_similarity(a,b,0) #disregarding vector magnitude"
      ],
      "metadata": {
        "colab": {
          "base_uri": "https://localhost:8080/"
        },
        "id": "-BUtOzZtuavZ",
        "outputId": "e2df1fda-15f9-4a7d-f18e-5e867a8bd231"
      },
      "execution_count": 184,
      "outputs": [
        {
          "output_type": "execute_result",
          "data": {
            "text/plain": [
              "tensor(0.8671)"
            ]
          },
          "metadata": {},
          "execution_count": 184
        }
      ]
    },
    {
      "cell_type": "code",
      "source": [
        "vector1 = torch.Tensor([1,1])\n",
        "vector2 = torch.Tensor([2,2])"
      ],
      "metadata": {
        "id": "QFZfBsgwvHaL"
      },
      "execution_count": 185,
      "outputs": []
    },
    {
      "cell_type": "code",
      "source": [
        "torch.cosine_similarity(vector1,vector2,dim=0) #only takes into account the angle"
      ],
      "metadata": {
        "colab": {
          "base_uri": "https://localhost:8080/"
        },
        "id": "Nylr0ARyvUXk",
        "outputId": "50dfcc72-8cc6-4e59-d903-50916319821f"
      },
      "execution_count": 186,
      "outputs": [
        {
          "output_type": "execute_result",
          "data": {
            "text/plain": [
              "tensor(1.0000)"
            ]
          },
          "metadata": {},
          "execution_count": 186
        }
      ]
    },
    {
      "cell_type": "code",
      "source": [
        "torch.dot(vector1,vector2) #takes into account both angle and magnitude"
      ],
      "metadata": {
        "colab": {
          "base_uri": "https://localhost:8080/"
        },
        "id": "soeHIMHbwRwL",
        "outputId": "e15b3406-a4c2-43d6-a85e-5aa3a7844723"
      },
      "execution_count": 187,
      "outputs": [
        {
          "output_type": "execute_result",
          "data": {
            "text/plain": [
              "tensor(4.)"
            ]
          },
          "metadata": {},
          "execution_count": 187
        }
      ]
    },
    {
      "cell_type": "markdown",
      "source": [
        "\n",
        "\n",
        "---\n",
        "\n",
        "# Some additional operations"
      ],
      "metadata": {
        "id": "nOVsbTJ20Gz4"
      }
    },
    {
      "cell_type": "code",
      "source": [
        "important = torch.Tensor([[0,0,0],[1,1,1],[0,0,1]])\n",
        "print (important)"
      ],
      "metadata": {
        "colab": {
          "base_uri": "https://localhost:8080/"
        },
        "id": "mDY92uep0K6k",
        "outputId": "e8b2b674-04a0-4e81-d95e-9aaa90ffcff9"
      },
      "execution_count": 188,
      "outputs": [
        {
          "output_type": "stream",
          "name": "stdout",
          "text": [
            "tensor([[0., 0., 0.],\n",
            "        [1., 1., 1.],\n",
            "        [0., 0., 1.]])\n"
          ]
        }
      ]
    },
    {
      "cell_type": "code",
      "source": [
        "print (important.reshape(-1))"
      ],
      "metadata": {
        "colab": {
          "base_uri": "https://localhost:8080/"
        },
        "id": "o4KEBnnb0010",
        "outputId": "f77e1cf2-c017-4360-97c8-9d504327cefa"
      },
      "execution_count": 189,
      "outputs": [
        {
          "output_type": "stream",
          "name": "stdout",
          "text": [
            "tensor([0., 0., 0., 1., 1., 1., 0., 0., 1.])\n"
          ]
        }
      ]
    },
    {
      "cell_type": "code",
      "source": [
        "important2 = important.transpose(0,1)\n",
        "important2"
      ],
      "metadata": {
        "colab": {
          "base_uri": "https://localhost:8080/"
        },
        "id": "sNLQdxwR1Cm4",
        "outputId": "e63617a9-21c4-409f-8812-dba4bd9c9b9c"
      },
      "execution_count": 190,
      "outputs": [
        {
          "output_type": "execute_result",
          "data": {
            "text/plain": [
              "tensor([[0., 1., 0.],\n",
              "        [0., 1., 0.],\n",
              "        [0., 1., 1.]])"
            ]
          },
          "metadata": {},
          "execution_count": 190
        }
      ]
    },
    {
      "cell_type": "code",
      "source": [
        "important2.reshape(-1) #note the difference between the above!!!"
      ],
      "metadata": {
        "colab": {
          "base_uri": "https://localhost:8080/"
        },
        "id": "rKquCKnp1fYd",
        "outputId": "3503930c-a197-48cd-f0a6-50d63f35730e"
      },
      "execution_count": 191,
      "outputs": [
        {
          "output_type": "execute_result",
          "data": {
            "text/plain": [
              "tensor([0., 1., 0., 0., 1., 0., 0., 1., 1.])"
            ]
          },
          "metadata": {},
          "execution_count": 191
        }
      ]
    },
    {
      "cell_type": "code",
      "source": [
        "realisticDimensions = torch.rand(128,20,4096) #for instance transformer encoder input: batchsize, sequence length, embedding size\n",
        "realisticDimensions.shape"
      ],
      "metadata": {
        "colab": {
          "base_uri": "https://localhost:8080/"
        },
        "id": "Sm2iIImL4x_N",
        "outputId": "c8268065-892c-4ade-88e7-ff44ff5fbdac"
      },
      "execution_count": 192,
      "outputs": [
        {
          "output_type": "execute_result",
          "data": {
            "text/plain": [
              "torch.Size([128, 20, 4096])"
            ]
          },
          "metadata": {},
          "execution_count": 192
        }
      ]
    },
    {
      "cell_type": "markdown",
      "source": [
        "Due to huge Tensor size, it is impossible to check for individual values. Use shape for sanity checks, but be aware that some bugs might be well hidden and cannot be seen via shape only!!!"
      ],
      "metadata": {
        "id": "nEywXYbR5CNS"
      }
    },
    {
      "cell_type": "code",
      "source": [
        "realisticDimensions"
      ],
      "metadata": {
        "colab": {
          "base_uri": "https://localhost:8080/"
        },
        "id": "2YLL2fpi5QCu",
        "outputId": "92fdad0d-9944-4869-dc95-d0dbf9b03d7e"
      },
      "execution_count": 193,
      "outputs": [
        {
          "output_type": "execute_result",
          "data": {
            "text/plain": [
              "tensor([[[0.2388, 0.0301, 0.2835,  ..., 0.1729, 0.7503, 0.1506],\n",
              "         [0.0796, 0.7688, 0.2944,  ..., 0.5532, 0.9049, 0.5915],\n",
              "         [0.1404, 0.0793, 0.6522,  ..., 0.1327, 0.8668, 0.4910],\n",
              "         ...,\n",
              "         [0.8846, 0.5083, 0.8316,  ..., 0.8512, 0.3706, 0.8095],\n",
              "         [0.2754, 0.5574, 0.8243,  ..., 0.6535, 0.5735, 0.5828],\n",
              "         [0.5810, 0.6036, 0.7830,  ..., 0.5270, 0.6245, 0.8378]],\n",
              "\n",
              "        [[0.4599, 0.6467, 0.9132,  ..., 0.1974, 0.0983, 0.4318],\n",
              "         [0.8395, 0.7466, 0.7304,  ..., 0.3234, 0.9334, 0.6048],\n",
              "         [0.0910, 0.6753, 0.6564,  ..., 0.7225, 0.4725, 0.6262],\n",
              "         ...,\n",
              "         [0.3380, 0.1862, 0.1349,  ..., 0.3745, 0.3579, 0.7520],\n",
              "         [0.6958, 0.1664, 0.4616,  ..., 0.4674, 0.0107, 0.5615],\n",
              "         [0.7349, 0.7151, 0.3266,  ..., 0.5317, 0.0643, 0.6551]],\n",
              "\n",
              "        [[0.7778, 0.1757, 0.4711,  ..., 0.4312, 0.0647, 0.0138],\n",
              "         [0.0769, 0.6370, 0.4607,  ..., 0.8463, 0.5606, 0.0540],\n",
              "         [0.8528, 0.7088, 0.6261,  ..., 0.3080, 0.7131, 0.6274],\n",
              "         ...,\n",
              "         [0.7472, 0.1005, 0.3997,  ..., 0.1378, 0.8761, 0.6616],\n",
              "         [0.0686, 0.6442, 0.2676,  ..., 0.2602, 0.8047, 0.4021],\n",
              "         [0.4283, 0.6253, 0.1679,  ..., 0.4853, 0.7307, 0.8734]],\n",
              "\n",
              "        ...,\n",
              "\n",
              "        [[0.7814, 0.9410, 0.4168,  ..., 0.2460, 0.9641, 0.1894],\n",
              "         [0.9132, 0.2606, 0.6329,  ..., 0.6014, 0.1708, 0.3767],\n",
              "         [0.7366, 0.8442, 0.1075,  ..., 0.6544, 0.7364, 0.6583],\n",
              "         ...,\n",
              "         [0.1918, 0.1051, 0.8546,  ..., 0.5078, 0.7187, 0.8281],\n",
              "         [0.4677, 0.9364, 0.6731,  ..., 0.5823, 0.3999, 0.8232],\n",
              "         [0.7387, 0.7686, 0.8200,  ..., 0.9087, 0.4293, 0.3942]],\n",
              "\n",
              "        [[0.0725, 0.1773, 0.6557,  ..., 0.0177, 0.3570, 0.4319],\n",
              "         [0.4134, 0.7751, 0.7545,  ..., 0.8055, 0.2336, 0.0205],\n",
              "         [0.7154, 0.7039, 0.2039,  ..., 0.5108, 0.7338, 0.3813],\n",
              "         ...,\n",
              "         [0.8358, 0.0815, 0.8482,  ..., 0.5571, 0.8093, 0.9881],\n",
              "         [0.4498, 0.8339, 0.4345,  ..., 0.6629, 0.2728, 0.4755],\n",
              "         [0.3268, 0.5243, 0.8596,  ..., 0.0750, 0.7877, 0.4071]],\n",
              "\n",
              "        [[0.2223, 0.1200, 0.9697,  ..., 0.3514, 0.0987, 0.1559],\n",
              "         [0.6879, 0.6577, 0.5068,  ..., 0.7297, 0.1340, 0.3388],\n",
              "         [0.1557, 0.7434, 0.9967,  ..., 0.9934, 0.7583, 0.0256],\n",
              "         ...,\n",
              "         [0.8102, 0.0937, 0.1371,  ..., 0.6131, 0.0997, 0.0888],\n",
              "         [0.7751, 0.2483, 0.7622,  ..., 0.4217, 0.1412, 0.9906],\n",
              "         [0.9218, 0.3805, 0.3523,  ..., 0.3254, 0.2881, 0.0428]]])"
            ]
          },
          "metadata": {},
          "execution_count": 193
        }
      ]
    }
  ]
}