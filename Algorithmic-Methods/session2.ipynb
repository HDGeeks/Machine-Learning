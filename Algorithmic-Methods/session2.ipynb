{
  "cells": [
    {
      "cell_type": "markdown",
      "metadata": {
        "id": "jQ4I5IH8uQUL"
      },
      "source": [
        "# Algorithmic Methods\n",
        "For reference and additional info: https://docs.python.org/3/tutorial/introduction.html\n",
        "# 0. Some programming basics\n",
        "**0.1. Definition Algorithm**\n",
        "\n",
        "According to the [Longman Dictionary](https://www.ldoceonline.com/dictionary/algorithm):\n",
        "\n",
        "\n",
        "> (technical) **a set of instructions that are followed in a fixed order** and used for solving a mathematical problem, making a computer program etc\n",
        "\n",
        "origin:\n",
        "> algorithm (1600-1700) algorism “algorithm” ((13-19 centuries)), from Medieval Latin algorismus, from Arabic al-khuwarizmi, from al-Khuwarizmi 9th-century Persian mathematician; influenced by Greek arithmos “number”\n",
        "\n",
        "**0.2. Definition Program**\n",
        "\n",
        "Again, according to the [Longman Dictionary](https://www.ldoceonline.com/dictionary/program):\n",
        "\n",
        "> a set of instructions given to a computer to make it perform an operation\n",
        "\n",
        "These instructions are often referred to as 'Statements'\n",
        "\n",
        "**0.3. Statements and Expressions**\n",
        "\n",
        "> A [statement](https://docs.python.org/3/glossary.html#term-statement) is part of a suite (a “block” of code). A statement is either an expression or one of several constructs with a keyword, such as if, while or for.\n",
        "\n",
        "\n",
        "> A piece of syntax which can be evaluated to some value. In other words, [an expression](https://docs.python.org/3/glossary.html#term-statement) is an accumulation of expression elements like literals, names, attribute access, operators or function calls which all return a value. In contrast to many other languages, not all language constructs are expressions. There are also statements which cannot be used as expressions, such as while. Assignments are also statements, not expressions.\n",
        "\n",
        "---\n",
        "\n",
        "\n",
        "# 1. Variables\n",
        "**1.1. Assignment**\n",
        "\n",
        "Consider the following **statement** that assigns a *value* to a *name*:\n",
        "\n",
        "Note: The *equal* sign ( = ) denotes assignment rather than equality!"
      ]
    },
    {
      "cell_type": "code",
      "execution_count": null,
      "metadata": {
        "id": "9xytjytevARy"
      },
      "outputs": [],
      "source": [
        "a = 1"
      ]
    },
    {
      "cell_type": "markdown",
      "metadata": {
        "id": "G2ueMwUivGmW"
      },
      "source": [
        "*a* is the name of a variable that contains the *value* 1\n",
        "\n",
        "A variable can be referenced by its name:"
      ]
    },
    {
      "cell_type": "code",
      "execution_count": null,
      "metadata": {
        "colab": {
          "base_uri": "https://localhost:8080/"
        },
        "id": "UBaUPft9vc7a",
        "outputId": "6b82510f-95a0-48b5-dae0-be99f77a46ef"
      },
      "outputs": [],
      "source": [
        "a"
      ]
    },
    {
      "cell_type": "markdown",
      "metadata": {
        "id": "thF6y-8yvhIZ"
      },
      "source": [
        "\n",
        "\n",
        "---\n",
        "\n",
        "\n",
        "**1.2. Rules and Conventions for variable names**\n",
        "\n",
        "Variable names **MUST NOT** be [reserved words](https://www.w3schools.com/python/python_ref_keywords.asp):\n",
        "\n",
        "* False\n",
        "* class\n",
        "* finally\n",
        "* is\n",
        "* return\n",
        "* None\n",
        "* continue\n",
        "* for\n",
        "* lambda\n",
        "* try\n",
        "* True\n",
        "* def\n",
        "* from\n",
        "* nonlocal\n",
        "* while\n",
        "* and\n",
        "* del\n",
        "* global\n",
        "* not\n",
        "* with\n",
        "* as\n",
        "* elif\n",
        "* if\n",
        "* or\n",
        "* yield\n",
        "* assert\n",
        "* else\n",
        "* import\n",
        "* pass\n",
        "* break\n",
        "* except\n",
        "* in\n",
        "* raise"
      ]
    },
    {
      "cell_type": "markdown",
      "metadata": {
        "id": "O75noIM1zXNm"
      },
      "source": [
        "Attempting to do so will result in an error:"
      ]
    },
    {
      "cell_type": "code",
      "execution_count": null,
      "metadata": {
        "colab": {
          "base_uri": "https://localhost:8080/",
          "height": 108
        },
        "id": "gr-4gwtqzC4d",
        "outputId": "690229c6-ac3d-4202-c08e-cb69aac52ad8"
      },
      "outputs": [],
      "source": [
        "def = 15"
      ]
    },
    {
      "cell_type": "markdown",
      "metadata": {
        "id": "Pjx3ydU4zj7T"
      },
      "source": [
        "\n",
        "\n",
        "---\n",
        "\n",
        "\n",
        "Variable names **SHOULD NOT** be built-in function names!\n",
        "\n",
        "Consider the following statement:\n",
        "\n",
        "> print = 15\n",
        "\n"
      ]
    },
    {
      "cell_type": "markdown",
      "metadata": {
        "id": "AmMb6x2e0ArK"
      },
      "source": [
        "The statement above is valid (i.e. the interpreter will not hesitate to execute the code)\n",
        "\n",
        "However, this overwrites the expected behavior and can lead to errors down the line!"
      ]
    },
    {
      "cell_type": "code",
      "execution_count": null,
      "metadata": {
        "colab": {
          "base_uri": "https://localhost:8080/"
        },
        "id": "My8W2Dcn0VfM",
        "outputId": "22378c53-afb8-45fa-e166-56a4313cb93d"
      },
      "outputs": [],
      "source": [
        "example1 = 15\n",
        "print (example1)"
      ]
    },
    {
      "cell_type": "code",
      "execution_count": null,
      "metadata": {
        "id": "DnNMSRxA1TFQ"
      },
      "outputs": [],
      "source": [
        "print = 15\n",
        "print (example1)"
      ]
    },
    {
      "cell_type": "markdown",
      "metadata": {
        "id": "Rh8w0r631YD8"
      },
      "source": [
        "\n",
        "\n",
        "---\n",
        "\n",
        "\n",
        "**1.3. Naming Guidelines [2]**\n",
        "* Variable names can contain only letters, numbers, and underscores. They can start with a letter or an underscore, but not with a number. For instance, you can call a variable message_1 but not 1_message\n",
        "\n",
        "* Spaces are not allowed in variable names, but underscores can be used to separate words in variable names. For example, greeting_message works, but greeting message will cause errors.\n",
        "\n",
        "* Avoid using Python keywords and function names as variable names; that is, do not use words that Python has reserved for a particular programmatic purpose, such as the word print.\n",
        "\n",
        "* Variable names should be short but descriptive. For example, name is better than n, student_name is better than s_n, and name_length is better than length_of_persons_name.\n",
        "\n",
        "* Be careful when using the lowercase letter l and the uppercase letter O because they could be confused with the numbers 1 and 0.\n"
      ]
    },
    {
      "cell_type": "markdown",
      "metadata": {
        "id": "QR-YUbs12TIb"
      },
      "source": [
        "\n",
        "\n",
        "---\n",
        "**1.4. Values**\n",
        "Variables hold values that belong to a certain *data type*. For each data type, various functions exist that express operations for their respective data types\n",
        "\n",
        "Example:\n"
      ]
    },
    {
      "cell_type": "code",
      "execution_count": null,
      "metadata": {
        "colab": {
          "base_uri": "https://localhost:8080/"
        },
        "id": "CZLp10kH2sBt",
        "outputId": "59c7b6a9-2117-4d27-f8c4-63890719e755"
      },
      "outputs": [],
      "source": [
        "a = 5\n",
        "type(a)"
      ]
    },
    {
      "cell_type": "markdown",
      "metadata": {
        "id": "QY2olmnU2zNo"
      },
      "source": [
        "The value of the variable *a* belongs to the data type *integer*"
      ]
    },
    {
      "cell_type": "code",
      "execution_count": null,
      "metadata": {
        "id": "MfPTiz2x285o"
      },
      "outputs": [],
      "source": [
        "b = a + 5"
      ]
    },
    {
      "cell_type": "markdown",
      "metadata": {
        "id": "VKwlve0x3BEw"
      },
      "source": [
        "The **operator** *+* expresses the addition operation.\n",
        "\n",
        "Question: What value does b hold after this operation?"
      ]
    },
    {
      "cell_type": "markdown",
      "metadata": {
        "id": "g3ErzA063UNI"
      },
      "source": [
        "\n",
        "\n",
        "---\n",
        "\n",
        "**1.5. Numeric Types [3]**\n",
        "\n",
        "There are three native numeric data types in Python:\n",
        "\n",
        "* Integer\n",
        "* Float\n",
        "* Complex\n",
        "\n",
        "\n",
        "\n",
        "Integer Examples:\n",
        "* 20\n",
        "* 191238\n",
        "* 1\n",
        "\n",
        "Float Examples:\n",
        "* 20.0\n",
        "* 3.14\n",
        "* 919.5123123123"
      ]
    },
    {
      "cell_type": "markdown",
      "metadata": {
        "id": "GY6enXyL4NvJ"
      },
      "source": [
        "\n",
        "\n",
        "---\n",
        "**1.6. Selected operators for numeric data types**\n",
        "\n",
        "Addition:"
      ]
    },
    {
      "cell_type": "code",
      "execution_count": null,
      "metadata": {
        "colab": {
          "base_uri": "https://localhost:8080/"
        },
        "id": "81HDSmkk4b-w",
        "outputId": "dcb43023-442e-43a0-b0d6-d0e9ba34353e"
      },
      "outputs": [],
      "source": [
        "1+1"
      ]
    },
    {
      "cell_type": "markdown",
      "metadata": {
        "id": "aLJbyWkq4eXA"
      },
      "source": [
        "Subtraction:"
      ]
    },
    {
      "cell_type": "code",
      "execution_count": null,
      "metadata": {
        "colab": {
          "base_uri": "https://localhost:8080/"
        },
        "id": "K3H99UGB4hK7",
        "outputId": "36d35846-70e4-4db0-c8a0-f08b811775d5"
      },
      "outputs": [],
      "source": [
        "2-1"
      ]
    },
    {
      "cell_type": "markdown",
      "metadata": {
        "id": "0dJLgDcv4jNw"
      },
      "source": [
        "Multiplication:"
      ]
    },
    {
      "cell_type": "code",
      "execution_count": null,
      "metadata": {
        "colab": {
          "base_uri": "https://localhost:8080/"
        },
        "id": "uRCImSJb4lkq",
        "outputId": "082bba56-7fb7-4072-df89-801a4001cdca"
      },
      "outputs": [],
      "source": [
        "2*3"
      ]
    },
    {
      "cell_type": "markdown",
      "metadata": {
        "id": "gw4HZHpL4pOP"
      },
      "source": [
        "Division:"
      ]
    },
    {
      "cell_type": "code",
      "execution_count": null,
      "metadata": {
        "colab": {
          "base_uri": "https://localhost:8080/"
        },
        "id": "rczFnv5m4udR",
        "outputId": "47e73b49-a709-42a3-b734-5bb8fbfb120d"
      },
      "outputs": [],
      "source": [
        "8/3"
      ]
    },
    {
      "cell_type": "markdown",
      "metadata": {
        "id": "MTjtDomX4xWN"
      },
      "source": [
        "Modulo (Returns the remainder of a divison):"
      ]
    },
    {
      "cell_type": "code",
      "execution_count": null,
      "metadata": {
        "colab": {
          "base_uri": "https://localhost:8080/"
        },
        "id": "JYFBSfyp5EYT",
        "outputId": "2918443c-9012-43d3-df6a-be913ba9f1b7"
      },
      "outputs": [],
      "source": [
        "8%2"
      ]
    },
    {
      "cell_type": "code",
      "execution_count": null,
      "metadata": {
        "colab": {
          "base_uri": "https://localhost:8080/"
        },
        "id": "rJAJ8zhI5IFd",
        "outputId": "54f1799c-692b-4a2c-e92a-06e6c4972133"
      },
      "outputs": [],
      "source": [
        "8%3"
      ]
    },
    {
      "cell_type": "markdown",
      "metadata": {
        "id": "N6srbsy95Oaa"
      },
      "source": [
        "Power:"
      ]
    },
    {
      "cell_type": "code",
      "execution_count": null,
      "metadata": {
        "colab": {
          "base_uri": "https://localhost:8080/"
        },
        "id": "Jy3PD3F95SUS",
        "outputId": "2e85c4b0-62af-4f23-859a-8d2983fd8dc4"
      },
      "outputs": [],
      "source": [
        "5**2"
      ]
    },
    {
      "cell_type": "code",
      "execution_count": null,
      "metadata": {
        "colab": {
          "base_uri": "https://localhost:8080/"
        },
        "id": "-CTvVQzz5VHg",
        "outputId": "b97d1672-3d05-4373-bd71-46511e975caa"
      },
      "outputs": [],
      "source": [
        "2**5"
      ]
    },
    {
      "cell_type": "markdown",
      "metadata": {
        "id": "kKmEYJMf5ZUb"
      },
      "source": [
        "Absolute Value:"
      ]
    },
    {
      "cell_type": "code",
      "execution_count": null,
      "metadata": {
        "colab": {
          "base_uri": "https://localhost:8080/"
        },
        "id": "DfSpcobI5bkg",
        "outputId": "653754df-6b84-4dd1-e444-2da2ffdced38"
      },
      "outputs": [],
      "source": [
        "abs(-5)"
      ]
    },
    {
      "cell_type": "markdown",
      "metadata": {
        "id": "ksdV8Eu9Tvf0"
      },
      "source": [
        "Different operations can return different data types!\n",
        "\n",
        "For example, the division operation can take two integers as inputs, but will return a float value as output!"
      ]
    },
    {
      "cell_type": "code",
      "execution_count": null,
      "metadata": {
        "colab": {
          "base_uri": "https://localhost:8080/"
        },
        "id": "vQJmfPdPTu7P",
        "outputId": "89419415-bd8c-4a3f-9d57-0b3198b23f8a"
      },
      "outputs": [],
      "source": [
        "a = 5\n",
        "b = 10\n",
        "c = a/b\n",
        "print (type(a))\n",
        "print (type(b))\n",
        "print (type(c))"
      ]
    },
    {
      "cell_type": "markdown",
      "metadata": {
        "id": "9xdP6LCE5mJg"
      },
      "source": [
        "\n",
        "\n",
        "---\n",
        "\n",
        "\n",
        "**1.7. But what about Zeros and Ones?**\n",
        "\n",
        "Internally, numbers are represented in binary format. This can be understood as a series of zeros and ones. Each position is referred to as a bit (Binary Information UniT)\n",
        "\n",
        "A 5-Bit Integer holds 5 positions of ones or zeros.\n",
        "\n",
        "    Example 1:\n",
        "    0   1   0   1   0\n",
        "    In decimal numbers, this equals to a 10.\n",
        "\n",
        "How do we get from binary to decimal?\n",
        "\n",
        "Each position in binary format refers to a power of two:\n",
        "\n",
        "    Example 1:\n",
        "    0     1     0     1     0\n",
        "    2^4  2^3   2^2   2^1   2^0\n",
        "In order to get the decimal number, you need to sum over all active (=1) positions.\n",
        "\n",
        "    Example 1:\n",
        "    2^3 + 2^1 = 10\n",
        "\n",
        "Let us try a different example!\n",
        "\n",
        "    Example 2:\n",
        "    a)  0     0     1     1     1 =>  2^2 + 2^1 + 2^0 = 7\n",
        "    b)  0     0     1     0     0 =>  2^2 = 4\n",
        "    _______________________________\n",
        "        2^4   2^3   2^2   2^1   2^0\n",
        "\n",
        "\n",
        "---\n",
        "**1.8. Zeros and Ones**\n",
        "\n",
        "How many decimal numbers can be expressed by a 5 bit Integer?\n",
        "\n",
        "    2^5 = 32\n",
        "\n",
        "What if we provide an additional bit?\n",
        "\n",
        "    2^6 = 64\n",
        "\n",
        "More generally:\n",
        "\n",
        "    A n-Bit Integer can hold 2^n values!\n",
        "\n",
        "**Question:**\n",
        "\n",
        "How many more numbers can be expressed if an additional bit is available?\n",
        "\n",
        "63 Bit Integer vs. 64 Bit Integer?"
      ]
    },
    {
      "cell_type": "markdown",
      "metadata": {
        "id": "Aawciktg95AS"
      },
      "source": [
        "\n",
        "\n",
        "---\n",
        "\n",
        "**1.9. Signed vs. Unsigned**\n",
        "\n",
        "Sometimes one bit is reserved to express whether a number is positive or negative:\n",
        "\n",
        "    [0] 0 0 0 0 => 5 bit signed\n",
        "\n",
        "The range goes from -15 to 15. Depending on the implementation it might go from -15 to 16 (in order not to waste one possible number)\n",
        "\n",
        "What if we are at - 15 and add an additional number?\n",
        "\n",
        "    [0] 1 1 1 1 => - 15\n",
        "    + 1\n",
        "    [1] 0 0 0 0 => 0 ?\n",
        "\n",
        "This behavior has historically been a source of bugs. Under most circumstances (related to this class), you dont have to take this into account.\n",
        "\n",
        "Examples:\n",
        "\n",
        "**Gangnam Style**\n",
        "https://www.bbc.com/news/world-asia-30288542\n",
        "\n",
        "<img src=https://blogger.googleusercontent.com/img/b/R29vZ2xl/AVvXsEiPuKTkQGyDw1aEqitgE1-M7o5MpdC63OZ3xj_h3K0S_CR9ql8CWthMtsnVREsnvrBbuX7tjt0Y2PuMU1EmFyvkfIO_nM_ocB3EzOqrCk-prmVs3bJ1KZ0RdTUOTEMzvp9cTGrJ32MUX9aJ/s1600/gangnamtube.jpg></img>\n",
        "\n",
        "**Nuclear Gandhi**\n",
        "https://www.avclub.com/sid-meier-s-memoir-debunks-the-myth-of-nuclear-gandhi-1844991916\n",
        "\n",
        "<img src=https://img.pastemagazine.com/wp-content/avuploads/2020/09/15043842/bwa4j58swfoi2rdp5bdt.jpg></img>"
      ]
    },
    {
      "cell_type": "markdown",
      "metadata": {
        "id": "x0EiiTesApIs"
      },
      "source": [
        "\n",
        "\n",
        "---\n",
        "\n",
        "**1.10. Representing Text**\n",
        "\n",
        "The data type for representing text is called *String*."
      ]
    },
    {
      "cell_type": "code",
      "execution_count": null,
      "metadata": {
        "colab": {
          "base_uri": "https://localhost:8080/",
          "height": 35
        },
        "id": "RpCHK6crA556",
        "outputId": "f7c649dc-5a36-40af-9b32-ed1ec06eab62"
      },
      "outputs": [],
      "source": [
        "stringExample1 = \"Hello World\"\n",
        "stringExample1"
      ]
    },
    {
      "cell_type": "code",
      "execution_count": null,
      "metadata": {
        "colab": {
          "base_uri": "https://localhost:8080/",
          "height": 35
        },
        "id": "VuYIQzEOBEWB",
        "outputId": "646a4810-9844-48c7-df5b-4dc758238764"
      },
      "outputs": [],
      "source": [
        "stringExample2 = 'Hello World'\n",
        "stringExample2"
      ]
    },
    {
      "cell_type": "markdown",
      "metadata": {
        "id": "C9aq4iChBMBQ"
      },
      "source": [
        "What if we want to express something like: He says 'hello' ?"
      ]
    },
    {
      "cell_type": "code",
      "execution_count": null,
      "metadata": {
        "colab": {
          "base_uri": "https://localhost:8080/",
          "height": 35
        },
        "id": "ImA2TaaPBVoJ",
        "outputId": "56372fe1-65fd-4e82-9f5a-5fca97031558"
      },
      "outputs": [],
      "source": [
        "stringExample3 = \"He says 'hello'\"\n",
        "stringExample3"
      ]
    },
    {
      "cell_type": "code",
      "execution_count": null,
      "metadata": {
        "colab": {
          "base_uri": "https://localhost:8080/",
          "height": 108
        },
        "id": "hARIiCmNBb4L",
        "outputId": "bc2f8413-e706-40b4-e5d0-6c8c62da2cfb"
      },
      "outputs": [],
      "source": [
        "stringExample4 = 'He says 'hello''\n",
        "stringExample4"
      ]
    },
    {
      "cell_type": "markdown",
      "metadata": {
        "id": "GpuwYmuvBjfR"
      },
      "source": [
        "\n",
        "\n",
        "---\n",
        "\n",
        "**1.11. Operations on Strings**\n",
        "\n",
        "Indexing:"
      ]
    },
    {
      "cell_type": "code",
      "execution_count": null,
      "metadata": {
        "colab": {
          "base_uri": "https://localhost:8080/",
          "height": 35
        },
        "id": "VZtqCfsCBr8w",
        "outputId": "e55e523b-3f41-42b5-a4f6-dd9ead263a59"
      },
      "outputs": [],
      "source": [
        "greeting = \"Hello\"\n",
        "greeting[0]"
      ]
    },
    {
      "cell_type": "markdown",
      "metadata": {
        "id": "LDKsI8wWBxqY"
      },
      "source": [
        "Individual characters of a string can be accessed by their index:\n",
        "\n",
        "    H   e   l   l   o\n",
        "    0   1   2   3   4\n",
        "\n",
        "Indices always start at zero. Therefore, the fifth element is accessed by index number 4!\n",
        "\n",
        "Indexing can be performed from front to end or from end to front:"
      ]
    },
    {
      "cell_type": "code",
      "execution_count": null,
      "metadata": {
        "colab": {
          "base_uri": "https://localhost:8080/",
          "height": 35
        },
        "id": "jSvXdV3zCpU3",
        "outputId": "b9053ae1-b14f-48ae-bf15-fef12137ec60"
      },
      "outputs": [],
      "source": [
        "greeting[0]"
      ]
    },
    {
      "cell_type": "code",
      "execution_count": null,
      "metadata": {
        "colab": {
          "base_uri": "https://localhost:8080/",
          "height": 35
        },
        "id": "FgPzwcC9Ct6G",
        "outputId": "9e19f3b8-e460-401a-8f34-757889671e9e"
      },
      "outputs": [],
      "source": [
        "greeting[-1]"
      ]
    },
    {
      "cell_type": "markdown",
      "metadata": {
        "id": "4nJqZtUUCxoK"
      },
      "source": [
        "The *len()* function returns the number of characters in a string:"
      ]
    },
    {
      "cell_type": "code",
      "execution_count": null,
      "metadata": {
        "colab": {
          "base_uri": "https://localhost:8080/"
        },
        "id": "DYwK3DJxDFFP",
        "outputId": "12aa77cb-ca4b-4e1f-9cc6-ca0196d27994"
      },
      "outputs": [],
      "source": [
        "len(greeting)"
      ]
    },
    {
      "cell_type": "markdown",
      "metadata": {
        "id": "WRI2s-U_eJNl"
      },
      "source": []
    },
    {
      "cell_type": "markdown",
      "metadata": {
        "id": "kQJXjWkvDItQ"
      },
      "source": [
        "**Be aware:**"
      ]
    },
    {
      "cell_type": "code",
      "execution_count": null,
      "metadata": {
        "colab": {
          "base_uri": "https://localhost:8080/",
          "height": 144
        },
        "id": "GhrzQd8zDS9F",
        "outputId": "96075475-e1d1-45d6-b924-2eea12241b3d"
      },
      "outputs": [],
      "source": [
        "greeting[5]"
      ]
    },
    {
      "cell_type": "markdown",
      "metadata": {
        "id": "Rpm9SigpDWzt"
      },
      "source": [
        "If we want to access the last character, we can either use the [-1] index, or the len()-1 index"
      ]
    },
    {
      "cell_type": "markdown",
      "metadata": {
        "id": "V2tQhAweDlGQ"
      },
      "source": [
        "\n",
        "\n",
        "---\n",
        "\n",
        "\n",
        "**1.12. Slicing**\n",
        "\n",
        "By providing a start and and end index, we can get slices of a string:"
      ]
    },
    {
      "cell_type": "code",
      "execution_count": null,
      "metadata": {
        "colab": {
          "base_uri": "https://localhost:8080/",
          "height": 35
        },
        "id": "EnlCUVNoD0dZ",
        "outputId": "83ad1d5f-abdb-4218-d095-e8f2ee5b5ac5"
      },
      "outputs": [],
      "source": [
        "greeting[0:2]"
      ]
    },
    {
      "cell_type": "code",
      "execution_count": null,
      "metadata": {
        "colab": {
          "base_uri": "https://localhost:8080/",
          "height": 35
        },
        "id": "oPtrRtnyD1k_",
        "outputId": "022fa9b1-6890-4dbe-cbe1-2ed3c879f903"
      },
      "outputs": [],
      "source": [
        "greeting[:2]"
      ]
    },
    {
      "cell_type": "code",
      "execution_count": null,
      "metadata": {
        "colab": {
          "base_uri": "https://localhost:8080/",
          "height": 35
        },
        "id": "jr_WPw84D1Nn",
        "outputId": "03c0c33d-b502-42c6-a23a-71e5cf6a1973"
      },
      "outputs": [],
      "source": [
        "greeting[1:3]"
      ]
    },
    {
      "cell_type": "markdown",
      "metadata": {
        "id": "1VFod0kTEDdy"
      },
      "source": [
        "Note that the operation includes the start index, but excludes the end index:\n",
        "\n",
        "    greeting[start index(included) : end index(excluded)]"
      ]
    },
    {
      "cell_type": "code",
      "execution_count": null,
      "metadata": {
        "colab": {
          "base_uri": "https://localhost:8080/",
          "height": 35
        },
        "id": "XLI0YwM4EW7u",
        "outputId": "09b0d9b7-8e4a-4c8f-bd28-920c92714202"
      },
      "outputs": [],
      "source": [
        "greeting[2:]"
      ]
    },
    {
      "cell_type": "code",
      "execution_count": null,
      "metadata": {
        "colab": {
          "base_uri": "https://localhost:8080/",
          "height": 35
        },
        "id": "oI9fcdH6Edi_",
        "outputId": "ecebfd24-f85e-464f-9893-2832b4289948"
      },
      "outputs": [],
      "source": [
        "greeting[2:4]"
      ]
    },
    {
      "cell_type": "code",
      "execution_count": null,
      "metadata": {
        "colab": {
          "base_uri": "https://localhost:8080/",
          "height": 35
        },
        "id": "1M8-w53IEdV_",
        "outputId": "58bf8561-4742-48be-eb91-732be3ae0e35"
      },
      "outputs": [],
      "source": [
        "greeting[2:5]"
      ]
    },
    {
      "cell_type": "markdown",
      "metadata": {
        "id": "8oFvqEf9EhQ-"
      },
      "source": [
        "!!!\n",
        "\n",
        "    greeting[2:5]\n",
        "!!!\n",
        "\n",
        "Might be a bit unexpected since index 5 threw an error earlier."
      ]
    },
    {
      "cell_type": "markdown",
      "metadata": {
        "id": "UN3EUjXOE2eY"
      },
      "source": [
        "\n",
        "\n",
        "---\n",
        "\n",
        "**1.13. Immutability**\n",
        "The mutability or immutability is an important property of a data type\n",
        "\n",
        ">An object with a fixed value. Immutable objects include numbers, strings and tuples. Such an object cannot be altered. A new object has to be created if a different value has to be stored. They play an important role in places where a constant hash value is needed, for example as a key in a dictionary.\n",
        "\n",
        "Strings are *immutable*:"
      ]
    },
    {
      "cell_type": "code",
      "execution_count": null,
      "metadata": {
        "colab": {
          "base_uri": "https://localhost:8080/",
          "height": 35
        },
        "id": "EMm87GGbFV6O",
        "outputId": "4c1def5d-9139-4f0d-b780-bf59047493e3"
      },
      "outputs": [],
      "source": [
        "greeting"
      ]
    },
    {
      "cell_type": "code",
      "execution_count": null,
      "metadata": {
        "colab": {
          "base_uri": "https://localhost:8080/",
          "height": 144
        },
        "id": "KGCP-Wc4FZS9",
        "outputId": "fa91d1a9-20ca-4611-cb89-ec0f04bcb20a"
      },
      "outputs": [],
      "source": [
        "greeting[0] = 'C'"
      ]
    },
    {
      "cell_type": "markdown",
      "metadata": {
        "id": "y-sxKWvJFfTZ"
      },
      "source": [
        "\n",
        "\n",
        "---\n",
        "\n",
        "\n",
        "**1.14. String Manipulation**\n",
        "\n",
        "Concatenation can be performed using the *+* operator:"
      ]
    },
    {
      "cell_type": "code",
      "execution_count": null,
      "metadata": {
        "colab": {
          "base_uri": "https://localhost:8080/",
          "height": 35
        },
        "id": "WGAWcHMOGHYq",
        "outputId": "e8eaf4c8-b37b-4293-b9c7-743f9d912c58"
      },
      "outputs": [],
      "source": [
        "message = greeting + \" class\"\n",
        "message"
      ]
    },
    {
      "cell_type": "markdown",
      "metadata": {
        "id": "FfUh4HKVGVMD"
      },
      "source": [
        "To repeat a string multiple times, the * operator can be used:"
      ]
    },
    {
      "cell_type": "code",
      "execution_count": null,
      "metadata": {
        "colab": {
          "base_uri": "https://localhost:8080/",
          "height": 35
        },
        "id": "98teAcgtGfcP",
        "outputId": "e61f5acb-b933-4d65-9bd1-e3f7ecb52fc2"
      },
      "outputs": [],
      "source": [
        "3 * greeting"
      ]
    },
    {
      "cell_type": "markdown",
      "metadata": {
        "id": "zqk8JswMgo3s"
      },
      "source": [
        "Note the subtle difference between *altering* a string (which is not possible) and reassignment of a string variable!"
      ]
    },
    {
      "cell_type": "code",
      "execution_count": null,
      "metadata": {
        "colab": {
          "base_uri": "https://localhost:8080/",
          "height": 35
        },
        "id": "zeXmp1_ug0ZT",
        "outputId": "de2bbca8-de5f-4a81-f6eb-2cd380d9b2f6"
      },
      "outputs": [],
      "source": [
        "message = message + \"!\" #the old variable message is overwritten by a new variable of the same name!\n",
        "message"
      ]
    },
    {
      "cell_type": "markdown",
      "metadata": {
        "id": "RnJkuUwiGjpj"
      },
      "source": [
        "\n",
        "\n",
        "---\n",
        "**1.15. String Formatting**\n",
        "\n",
        "Strings can be formatted to include other variables:"
      ]
    },
    {
      "cell_type": "code",
      "execution_count": null,
      "metadata": {
        "colab": {
          "base_uri": "https://localhost:8080/",
          "height": 35
        },
        "id": "4MzGASlfGxXR",
        "outputId": "3349a86b-002f-4e2e-ddda-973a668225b6"
      },
      "outputs": [],
      "source": [
        "name = \"John\"\n",
        "message = f\"Hello {name}\"\n",
        "message"
      ]
    },
    {
      "cell_type": "markdown",
      "metadata": {
        "id": "R74vk1XjHFmb"
      },
      "source": [
        "These can not only be strings but also other data types:"
      ]
    },
    {
      "cell_type": "code",
      "execution_count": null,
      "metadata": {
        "colab": {
          "base_uri": "https://localhost:8080/",
          "height": 35
        },
        "id": "2gVjI0jLG5w1",
        "outputId": "acf28889-e4b9-41b7-aa1e-0dddad0f7dfa"
      },
      "outputs": [],
      "source": [
        "nrCars = 3\n",
        "message = f\"I have {nrCars} cars\"\n",
        "message"
      ]
    },
    {
      "cell_type": "markdown",
      "metadata": {
        "id": "amixHeHbHLrB"
      },
      "source": [
        "There are special characters that can be used to format strings.\n",
        "\n",
        "Newline: \\n"
      ]
    },
    {
      "cell_type": "code",
      "execution_count": null,
      "metadata": {
        "colab": {
          "base_uri": "https://localhost:8080/"
        },
        "id": "5WWWd4bJHbi8",
        "outputId": "90f239f3-1166-4310-9d0c-d6579f99e832"
      },
      "outputs": [],
      "source": [
        "message = \"Hello class,\\nthis is an example...\"\n",
        "print (message)"
      ]
    },
    {
      "cell_type": "markdown",
      "metadata": {
        "id": "Oy0NIWU0H0Ps"
      },
      "source": [
        "Tab: \\t"
      ]
    },
    {
      "cell_type": "code",
      "execution_count": null,
      "metadata": {
        "colab": {
          "base_uri": "https://localhost:8080/"
        },
        "id": "0NVTjmCXH1bT",
        "outputId": "777621e8-3e1b-4d2b-b652-d3eb115d6b73"
      },
      "outputs": [],
      "source": [
        "overview = \"Nr. Students:\\t25\\nNr. Teachers:\\t5\"\n",
        "print (overview)"
      ]
    }
  ],
  "metadata": {
    "colab": {
      "provenance": []
    },
    "kernelspec": {
      "display_name": "Python 3",
      "name": "python3"
    },
    "language_info": {
      "name": "python"
    }
  },
  "nbformat": 4,
  "nbformat_minor": 0
}
