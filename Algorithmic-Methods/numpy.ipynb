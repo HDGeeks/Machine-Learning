{
 "cells": [
  {
   "cell_type": "code",
   "execution_count": null,
   "id": "dfc92fad",
   "metadata": {},
   "outputs": [],
   "source": [
    "import numpy as np\n",
    "\"\"\"\n",
    "Demonstrates iterating over a sliced NumPy array using np.nditer.\n",
    "np.nditer does not return sliced views, but iterates over the elements of the sliced array.\n",
    "\"\"\"\n",
    "arr = np.array([[1, 2, 3, 4], [5, 6, 7, 8]])\n",
    "\n",
    "for x in np.nditer(arr[:, ::2]):\n",
    "  print(x)\n",
    "\n",
    "# sliced array with step size 2 in second dimension\n",
    "sub = arr[:, ::2]\n",
    "print(\"Sliced array with step size 2 in second dimension:\")\n",
    "print(sub)  "
   ]
  },
  {
   "cell_type": "code",
   "execution_count": null,
   "id": "ec601a1d",
   "metadata": {},
   "outputs": [],
   "source": [
    "\"\"\"Demonstrate basic enumeration in python.\"\"\"\n",
    "for index, value in enumerate(['a', 'b', 'c']):\n",
    "    print(index, value)"
   ]
  },
  {
   "cell_type": "code",
   "execution_count": null,
   "id": "df79dedd",
   "metadata": {},
   "outputs": [],
   "source": [
    "\"\"\"And lets enumerate with numpy array.\"\"\"\n",
    "arr = np.array([10, 20, 30])\n",
    "for index, value in np.ndenumerate(arr):\n",
    "    print(index, value)\n",
    "\n",
    "# 2D array enumeration\n",
    "import numpy as np\n",
    "\n",
    "arr = np.array([[1, 2, 3, 4], [5, 6, 7, 8]])\n",
    "\n",
    "for idx, x in np.ndenumerate(arr):\n",
    "  print(idx, x)"
   ]
  },
  {
   "cell_type": "code",
   "execution_count": null,
   "id": "d5eae0fc",
   "metadata": {},
   "outputs": [],
   "source": [
    "\"\"\"Demonstrate concatenation of two numpy arrays along a specified axis.\n",
    "what is axis?\n",
    "Axis 0 is the first dimension (rows), axis 1 is the second dimension (columns).\n",
    "\"\"\"\n",
    "import numpy as np\n",
    "\n",
    "arr1 = np.array([[1, 2], [3, 4]])\n",
    "\n",
    "arr2 = np.array([[5, 6], [7, 8]])\n",
    "\n",
    "arr_concat_axis_1 = np.concatenate((arr1, arr2), axis=1) # concatenate along columns\n",
    "arr_concat_axis_0 = np.concatenate((arr1, arr2), axis=0) # concatenate along rows\n",
    "\n",
    "print(arr_concat_axis_1)\n",
    "print(arr_concat_axis_0)"
   ]
  },
  {
   "cell_type": "code",
   "execution_count": null,
   "id": "2b952ce7",
   "metadata": {},
   "outputs": [],
   "source": [
    "\"\"\"Demo of array splitting using numpy\"\"\"\n",
    "import numpy as np\n",
    "arr = np.array([[1, 2, 3, 4], [5, 6, 7, 8]])\n",
    "# Split the array into 2 sub-arrays along axis 0 (rows)\n",
    "sub_arrays = np.array_split(arr, 2, axis=0)\n",
    "print(\"Splitting along axis 0:\")\n",
    "for sub in sub_arrays:\n",
    "    print(sub)\n",
    "\n",
    "# Split the array into 2 sub-arrays along axis 1 (columns)\n",
    "sub_arrays = np.array_split(arr, 2, axis=1)\n",
    "print(\"Splitting along axis 1:\")\n",
    "for sub in sub_arrays:\n",
    "    print(sub)"
   ]
  },
  {
   "cell_type": "code",
   "execution_count": 8,
   "id": "047544a0",
   "metadata": {},
   "outputs": [
    {
     "name": "stdout",
     "output_type": "stream",
     "text": [
      "Indices of elements equal to 3: [2 5]\n"
     ]
    }
   ],
   "source": [
    "\"\"\"Demo array searching using numpy \"\"\"\n",
    "import numpy as np\n",
    "arr = np.array([1, 2, 3, 4, 5, 3, 2, 1])\n",
    "# Find indices where the value is 3\n",
    "indices = np.where(arr == 3)\n",
    "print(\"Indices of elements equal to 3:\", indices[0])"
   ]
  }
 ],
 "metadata": {
  "kernelspec": {
   "display_name": ".venv",
   "language": "python",
   "name": "python3"
  },
  "language_info": {
   "codemirror_mode": {
    "name": "ipython",
    "version": 3
   },
   "file_extension": ".py",
   "mimetype": "text/x-python",
   "name": "python",
   "nbconvert_exporter": "python",
   "pygments_lexer": "ipython3",
   "version": "3.10.2"
  }
 },
 "nbformat": 4,
 "nbformat_minor": 5
}
